{
  "nbformat": 4,
  "nbformat_minor": 0,
  "metadata": {
    "colab": {
      "provenance": []
    },
    "kernelspec": {
      "name": "python3",
      "display_name": "Python 3"
    },
    "language_info": {
      "name": "python"
    }
  },
  "cells": [
    {
      "cell_type": "markdown",
      "source": [
        "## **Definisi Variabel**"
      ],
      "metadata": {
        "id": "cx1cBTTGcWf4"
      }
    },
    {
      "cell_type": "code",
      "source": [
        "y_test = [1, 1, 1, 1, 0, 0]\n",
        "y_pred = [1, 1, 1, 0, 0, 0]"
      ],
      "metadata": {
        "id": "o_r9h7hbW34-"
      },
      "execution_count": 23,
      "outputs": []
    },
    {
      "cell_type": "markdown",
      "source": [
        "## **Fungsi Confusion Matrix**"
      ],
      "metadata": {
        "id": "4dfE_3OEV8wP"
      }
    },
    {
      "cell_type": "code",
      "execution_count": 24,
      "metadata": {
        "colab": {
          "base_uri": "https://localhost:8080/"
        },
        "id": "4y6kpa30UKsL",
        "outputId": "38ac2395-a7b0-4f66-8289-fc760d8b8847"
      },
      "outputs": [
        {
          "output_type": "stream",
          "name": "stdout",
          "text": [
            "TP: 3, TN: 2, FP: 0, FN: 1\n"
          ]
        }
      ],
      "source": [
        "def confusion_matrix (y_true, y_pred):\n",
        "  TP = sum((y_true[i]== 1 and y_pred[i] == 1) for i in range(len(y_true)))\n",
        "  TN = sum((y_true[i]== 0 and y_pred[i] == 0) for i in range(len(y_true)))\n",
        "  FP = sum((y_true[i]== 0 and y_pred[i] == 1) for i in range(len(y_true)))\n",
        "  FN = sum((y_true[i]== 1 and y_pred[i] == 0) for i in range(len(y_true)))\n",
        "  return TP, TN, FP, FN\n",
        "\n",
        "TP, TN, FP, FN = confusion_matrix(y_test, y_pred)\n",
        "print(f\"TP: {TP}, TN: {TN}, FP: {FP}, FN: {FN}\")"
      ]
    },
    {
      "cell_type": "markdown",
      "source": [
        "## **Fungsi Akurasi**"
      ],
      "metadata": {
        "id": "1QGrBb6UcaIm"
      }
    },
    {
      "cell_type": "code",
      "source": [
        "def accuracy(TP, TN, FP, FN):\n",
        "  return (TP + TN) / (TP + TN + FP + FN)\n",
        "\n",
        "accuracy_value = accuracy(TP, TN, FP, FN)\n",
        "print(f\"Accuracy: {accuracy_value:.2f}\")"
      ],
      "metadata": {
        "colab": {
          "base_uri": "https://localhost:8080/"
        },
        "id": "sD88PPJFVH6S",
        "outputId": "bdc37730-03c8-4f9e-f257-db2808887ac2"
      },
      "execution_count": 25,
      "outputs": [
        {
          "output_type": "stream",
          "name": "stdout",
          "text": [
            "Accuracy: 0.83\n"
          ]
        }
      ]
    },
    {
      "cell_type": "markdown",
      "source": [],
      "metadata": {
        "id": "0MGRURtgaFDl"
      }
    },
    {
      "cell_type": "markdown",
      "source": [
        "## **Fungsi Presisi**"
      ],
      "metadata": {
        "id": "WXlSeIHlcc9E"
      }
    },
    {
      "cell_type": "code",
      "source": [
        "def precision(TP, FP):\n",
        "  if TP + FP == 0:\n",
        "    return 0\n",
        "  return TP / (TP + FP)\n",
        "\n",
        "precision_value = precision(TP, FP)\n",
        "print(f\"Precision: {precision_value:.2f}\")"
      ],
      "metadata": {
        "colab": {
          "base_uri": "https://localhost:8080/"
        },
        "id": "VXhNnncGWHeg",
        "outputId": "30dfbf7c-b692-48bc-edc5-df460465a2c2"
      },
      "execution_count": 26,
      "outputs": [
        {
          "output_type": "stream",
          "name": "stdout",
          "text": [
            "Precision: 1.00\n"
          ]
        }
      ]
    },
    {
      "cell_type": "markdown",
      "source": [
        "## **Fungsi Recall**"
      ],
      "metadata": {
        "id": "dZZRdRxScjfk"
      }
    },
    {
      "cell_type": "code",
      "source": [
        "def recall(TP, FN):\n",
        "  if TP + FN == 0:\n",
        "    return 0\n",
        "  return TP / (TP + FN)\n",
        "\n",
        "recall_value = recall(TP, FN)\n",
        "print(f\"Recall: {recall_value:.2f}\")"
      ],
      "metadata": {
        "colab": {
          "base_uri": "https://localhost:8080/"
        },
        "id": "NA24YlsBWlBG",
        "outputId": "440eb7f4-7f32-405d-b0f1-bdd81c1373ef"
      },
      "execution_count": 27,
      "outputs": [
        {
          "output_type": "stream",
          "name": "stdout",
          "text": [
            "Recall: 0.75\n"
          ]
        }
      ]
    },
    {
      "cell_type": "markdown",
      "source": [
        "## **Fungsi F1**"
      ],
      "metadata": {
        "id": "K2b0eOkWclwL"
      }
    },
    {
      "cell_type": "code",
      "source": [
        "def f1_score(precision, recall):\n",
        "  if precision + recall == 0:\n",
        "    return 0\n",
        "  return 2 * (precision * recall) / (precision + recall)\n",
        "\n",
        "f1_score_value = f1_score(precision_value, recall_value)\n",
        "print(f\"F1 Score: {f1_score_value:.2f}\")\n"
      ],
      "metadata": {
        "colab": {
          "base_uri": "https://localhost:8080/"
        },
        "id": "HFKJZ1frWtqM",
        "outputId": "7c791bee-2088-4662-bef2-4a0d70f1cb98"
      },
      "execution_count": 28,
      "outputs": [
        {
          "output_type": "stream",
          "name": "stdout",
          "text": [
            "F1 Score: 0.86\n"
          ]
        }
      ]
    },
    {
      "cell_type": "markdown",
      "source": [
        "## **Menggunakan Library**"
      ],
      "metadata": {
        "id": "ZBiFdl92cogU"
      }
    },
    {
      "cell_type": "code",
      "source": [
        "from functools import cmp_to_key\n",
        "from sklearn.metrics import (\n",
        "    confusion_matrix,\n",
        "    accuracy_score,\n",
        "    precision_score,\n",
        "    recall_score,\n",
        "    f1_score,\n",
        ")\n",
        "\n",
        "y_true = [1, 0, 1, 0, 1]\n",
        "y_pred = [1, 1, 0, 0, 1]\n",
        "\n",
        "cm = confusion_matrix(y_true, y_pred)\n",
        "accuracy = accuracy_score(y_true, y_pred)\n",
        "precision = precision_score(y_true, y_pred)\n",
        "recall = recall_score(y_true, y_pred)\n",
        "f1 = f1_score(y_true, y_pred)\n",
        "print(\"Confusion Matrix:\\n\", cm)\n",
        "print(\"Accuracy:\", accuracy)\n",
        "print(\"Precision:\", precision)\n",
        "print(\"Recall:\", recall)\n",
        "print(\"F1 Score:\", f1)"
      ],
      "metadata": {
        "colab": {
          "base_uri": "https://localhost:8080/"
        },
        "id": "dvgJ3etnXfvQ",
        "outputId": "7dcb0218-a3cd-4077-b151-83fe455fce8a"
      },
      "execution_count": 29,
      "outputs": [
        {
          "output_type": "stream",
          "name": "stdout",
          "text": [
            "Confusion Matrix:\n",
            " [[1 1]\n",
            " [1 2]]\n",
            "Accuracy: 0.6\n",
            "Precision: 0.6666666666666666\n",
            "Recall: 0.6666666666666666\n",
            "F1 Score: 0.6666666666666666\n"
          ]
        }
      ]
    },
    {
      "cell_type": "markdown",
      "source": [
        "## Quiz"
      ],
      "metadata": {
        "id": "Anu3INwqcuLt"
      }
    },
    {
      "cell_type": "markdown",
      "source": [
        "1. What is confusion matrix used for in mechine learning ?\n",
        "2. Given the confusion matrix bellow, what is the true positive (tp) count ?\n",
        "3. How is precision colculated from a confusion matrix?\n",
        "4. Using the following confuison matrix, calculate the acuracy!\n",
        "5. What is the F1 score if the precesion is 0.8 and the recals  is 0.6?"
      ],
      "metadata": {
        "id": "3emXKrbuYLlV"
      }
    },
    {
      "cell_type": "markdown",
      "source": [
        "### Jawaban :"
      ],
      "metadata": {
        "id": "qShs3NiTc_gp"
      }
    },
    {
      "cell_type": "markdown",
      "source": [
        "1. untuk mengetahui akurasi model yang sudah di latih Machine Learning\n",
        "2. 3\n",
        "3. TP / (TP + FP)\n",
        "4. (TP + TN) / (TP + TN + FP + FN) <BR/>\n",
        "  = (5 + 4) / (5 + 4 + 3 + 2) <BR/>\n",
        "  = 9 / 14 <BR/>\n",
        "  = 0.64\n",
        "5. 2 * (precision * recall) / (precision + recall) <BR/>\n",
        "  = 2 * (0.8 * 0.6) / (0.8 + 0.6)\n",
        "  = 2 * 0.48 / 1.4\n",
        "  = 0.69"
      ],
      "metadata": {
        "id": "t2CzmOWCc51f"
      }
    }
  ]
}